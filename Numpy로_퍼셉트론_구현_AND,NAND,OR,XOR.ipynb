{
  "nbformat": 4,
  "nbformat_minor": 0,
  "metadata": {
    "colab": {
      "private_outputs": true,
      "provenance": [],
      "authorship_tag": "ABX9TyMlbMNRyEu3ZcNq/aC1Q3+p",
      "include_colab_link": true
    },
    "kernelspec": {
      "name": "python3",
      "display_name": "Python 3"
    },
    "language_info": {
      "name": "python"
    }
  },
  "cells": [
    {
      "cell_type": "markdown",
      "metadata": {
        "id": "view-in-github",
        "colab_type": "text"
      },
      "source": [
        "<a href=\"https://colab.research.google.com/github/tlsdmswn01/Deep-Learning/blob/main/Numpy%EB%A1%9C_%ED%8D%BC%EC%85%89%ED%8A%B8%EB%A1%A0_%EA%B5%AC%ED%98%84_AND%2CNAND%2COR%2CXOR.ipynb\" target=\"_parent\"><img src=\"https://colab.research.google.com/assets/colab-badge.svg\" alt=\"Open In Colab\"/></a>"
      ]
    },
    {
      "cell_type": "markdown",
      "source": [
        "## Numpy로 퍼셉트론 구현하기  \n",
        "- '밑바닥부터 시작하는 딥러닝' 2장 예제코드"
      ],
      "metadata": {
        "id": "GCGYjVaU0J5v"
      }
    },
    {
      "cell_type": "code",
      "execution_count": null,
      "metadata": {
        "id": "woftDBiytpnO"
      },
      "outputs": [],
      "source": [
        "import numpy as np"
      ]
    },
    {
      "cell_type": "markdown",
      "source": [
        "### AND 연산 퍼셉트론 구현"
      ],
      "metadata": {
        "id": "UdF8chr1y4qq"
      }
    },
    {
      "cell_type": "code",
      "source": [
        "def AND(x1,x2):\n",
        "    x=np.array([x1,x2])\n",
        "    w=np.array([0.5,0.5]) # 초기값 설정\n",
        "    b=-0.7 # 절편: -0.7\n",
        "    tmp= np.sum(w*x)+b\n",
        "    if tmp<=0:\n",
        "        return 0\n",
        "    else:\n",
        "        return 1\n",
        "\n",
        "data=[]\n",
        "for i in [(0,0),(1,0),(0,1),(1,1)]:\n",
        "    data.append(i)\n",
        "    print(data[0])\n",
        "    y=AND(i[0],i[1])\n",
        "    print(str(i) + \" -> \" + str(y))"
      ],
      "metadata": {
        "id": "LYVehcpxtv7m"
      },
      "execution_count": null,
      "outputs": []
    },
    {
      "cell_type": "markdown",
      "source": [
        "### NAND 연산 퍼셉트론 구현"
      ],
      "metadata": {
        "id": "ic5buC7cy6wD"
      }
    },
    {
      "cell_type": "code",
      "source": [
        "def NAND(x1, x2):\n",
        "    x = np.array([x1, x2])\n",
        "    w = np.array([-0.5, -0.5])\n",
        "    b = 0.7\n",
        "    tmp =  np.sum(w * x) + b\n",
        "    if tmp <= 0:\n",
        "        return 0\n",
        "    else:\n",
        "        return 1\n",
        "\n",
        "for xs in [(0, 0), (1, 0), (0, 1), (1, 1)]:\n",
        "    y = NAND(xs[0], xs[1])\n",
        "    print(str(xs) + \" -> \" + str(y))"
      ],
      "metadata": {
        "id": "JnASn2UwucCQ"
      },
      "execution_count": null,
      "outputs": []
    },
    {
      "cell_type": "markdown",
      "source": [
        "### OR 연산 퍼셉트론 연산"
      ],
      "metadata": {
        "id": "Mr8PmgYJy-Y0"
      }
    },
    {
      "cell_type": "code",
      "source": [
        "def OR(x1, x2):\n",
        "    x = np.array([x1, x2])\n",
        "    w = np.array([2, 2])\n",
        "    b = -1\n",
        "    tmp =  np.sum(w * x) + b\n",
        "    if tmp <= 0:\n",
        "        return 0\n",
        "    else:\n",
        "        return 1\n",
        "\n",
        "for xs in [(0, 0), (1, 0), (0, 1), (1, 1)]:\n",
        "    y = OR(xs[0], xs[1])\n",
        "    print(str(xs) + \" -> \" + str(y))"
      ],
      "metadata": {
        "id": "MJgr_sjKyy21"
      },
      "execution_count": null,
      "outputs": []
    },
    {
      "cell_type": "markdown",
      "source": [
        "### XOR 연산 다층 퍼셉트론 구현"
      ],
      "metadata": {
        "id": "_ikASFOxzCr5"
      }
    },
    {
      "cell_type": "code",
      "source": [
        "def XOR(x1, x2):\n",
        "    s1 = NAND(x1, x2)\n",
        "    s2 = OR(x1, x2)\n",
        "    y = AND(s1, s2)\n",
        "    return y\n",
        "\n",
        "print(\"NAND, OR, AND\")\n",
        "for xs in [(0, 0), (1, 0), (0, 1), (1, 1)]:\n",
        "    y = XOR(xs[0], xs[1])\n",
        "    print(str(xs) + \" -> \" + str(y))"
      ],
      "metadata": {
        "id": "l9by95z7zE5H"
      },
      "execution_count": null,
      "outputs": []
    }
  ]
}